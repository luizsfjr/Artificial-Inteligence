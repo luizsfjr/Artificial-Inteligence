{
 "cells": [
  {
   "cell_type": "code",
   "execution_count": 13,
   "metadata": {},
   "outputs": [
    {
     "name": "stdout",
     "output_type": "stream",
     "text": [
      "[15 24  3 26  7 28 25  4 12 12]\n",
      "15.6\n",
      "Média =  15.6\n",
      "mediana = 13.5\n",
      "[15 24  3 26  7 28 25  4 12 12]\n",
      "A Moda é [12]\n",
      "[12]\n"
     ]
    }
   ],
   "source": [
    "import numpy\n",
    "from scipy import stats\n",
    "# gerando um array com 10 valores aleatorios\n",
    "# sorteados entre 0 e 100\n",
    "x = numpy.random.randint(low=0, high=30, size=10)\n",
    "# calculando a media utilizando os metodos\n",
    "# numpy.sum e len\n",
    "print(x)\n",
    "media = numpy.sum(x) / len(x)\n",
    "print(media)\n",
    "# mais facilmente, podemos utilizar o metodo numpy.mean\n",
    "media = numpy.mean(x)\n",
    "print(\"Média = \",media)\n",
    "#usando o método numpy.median para o cálculo da mediana\n",
    "mediana = numpy.median(x)\n",
    "print(\"mediana =\" , mediana)\n",
    "print(x)\n",
    "mode = stats.mode(x)\n",
    "print(\"A Moda é {}\".format(mode[0]))\n",
    "print(mode[0])"
   ]
  }
 ],
 "metadata": {
  "kernelspec": {
   "display_name": "Python 3",
   "language": "python",
   "name": "python3"
  },
  "language_info": {
   "codemirror_mode": {
    "name": "ipython",
    "version": 3
   },
   "file_extension": ".py",
   "mimetype": "text/x-python",
   "name": "python",
   "nbconvert_exporter": "python",
   "pygments_lexer": "ipython3",
   "version": "3.8.5"
  }
 },
 "nbformat": 4,
 "nbformat_minor": 4
}
